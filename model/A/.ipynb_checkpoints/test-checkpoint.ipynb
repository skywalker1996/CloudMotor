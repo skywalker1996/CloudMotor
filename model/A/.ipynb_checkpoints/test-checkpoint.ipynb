{
 "cells": [
  {
   "cell_type": "code",
   "execution_count": 3,
   "metadata": {},
   "outputs": [
    {
     "ename": "ImportError",
     "evalue": "attempted relative import with no known parent package",
     "output_type": "error",
     "traceback": [
      "\u001b[0;31m---------------------------------------------------------------------------\u001b[0m",
      "\u001b[0;31mImportError\u001b[0m                               Traceback (most recent call last)",
      "\u001b[0;32m/tmp/ipykernel_137117/1137407698.py\u001b[0m in \u001b[0;36m<module>\u001b[0;34m\u001b[0m\n\u001b[0;32m----> 1\u001b[0;31m \u001b[0;32mfrom\u001b[0m \u001b[0;34m.\u001b[0m\u001b[0mmodel\u001b[0m \u001b[0;32mimport\u001b[0m \u001b[0mModel_A\u001b[0m\u001b[0;34m\u001b[0m\u001b[0;34m\u001b[0m\u001b[0m\n\u001b[0m\u001b[1;32m      2\u001b[0m \u001b[0;32mfrom\u001b[0m \u001b[0mdataset\u001b[0m \u001b[0;32mimport\u001b[0m \u001b[0;34m*\u001b[0m\u001b[0;34m\u001b[0m\u001b[0;34m\u001b[0m\u001b[0m\n\u001b[1;32m      3\u001b[0m \u001b[0;32mfrom\u001b[0m \u001b[0mtorch\u001b[0m\u001b[0;34m.\u001b[0m\u001b[0mutils\u001b[0m\u001b[0;34m.\u001b[0m\u001b[0mdata\u001b[0m \u001b[0;32mimport\u001b[0m \u001b[0mDataset\u001b[0m\u001b[0;34m,\u001b[0m \u001b[0mDataLoader\u001b[0m\u001b[0;34m\u001b[0m\u001b[0;34m\u001b[0m\u001b[0m\n\u001b[1;32m      4\u001b[0m \u001b[0;32mfrom\u001b[0m \u001b[0mmatplotlib\u001b[0m \u001b[0;32mimport\u001b[0m \u001b[0mpyplot\u001b[0m \u001b[0;32mas\u001b[0m \u001b[0mplt\u001b[0m\u001b[0;34m\u001b[0m\u001b[0;34m\u001b[0m\u001b[0m\n\u001b[1;32m      5\u001b[0m \u001b[0;32mimport\u001b[0m \u001b[0mnumpy\u001b[0m \u001b[0;32mas\u001b[0m \u001b[0mnp\u001b[0m\u001b[0;34m\u001b[0m\u001b[0;34m\u001b[0m\u001b[0m\n",
      "\u001b[0;31mImportError\u001b[0m: attempted relative import with no known parent package"
     ]
    }
   ],
   "source": [
    "from model import Model_A\n",
    "from dataset import *\n",
    "from torch.utils.data import Dataset, DataLoader \n",
    "from matplotlib import pyplot as plt \n",
    "import numpy as np\n",
    "\n",
    "data_path = \"../../results/model_A_dataset.csv\"\n",
    "\n",
    "trainSet = MotorData(data_path=data_path, train=True)\n",
    "testSet = MotorData(data_path=data_path, train=False)\n",
    "trainLoader = DataLoader(dataset=trainSet, batch_size=32,shuffle=True)\n",
    "testLoader = DataLoader(dataset=testSet, batch_size=32,shuffle=False)"
   ]
  },
  {
   "cell_type": "code",
   "execution_count": 45,
   "metadata": {},
   "outputs": [
    {
     "name": "stdout",
     "output_type": "stream",
     "text": [
      "epoch #0 loss: 211.7835693359375\n",
      "epoch #1 loss: 252.940673828125\n",
      "epoch #2 loss: 251.9795379638672\n",
      "epoch #3 loss: 254.1461181640625\n",
      "epoch #4 loss: 385.7740173339844\n",
      "epoch #5 loss: 70.53975677490234\n",
      "epoch #6 loss: 59.180580139160156\n",
      "epoch #7 loss: 333.8285217285156\n",
      "epoch #8 loss: 74.92644500732422\n",
      "epoch #9 loss: 152.1807403564453\n",
      "epoch #10 loss: 240.3514404296875\n",
      "epoch #11 loss: 89.5584945678711\n",
      "epoch #12 loss: 91.95504760742188\n",
      "epoch #13 loss: 189.40431213378906\n",
      "epoch #14 loss: 74.57586669921875\n",
      "epoch #15 loss: 199.72988891601562\n",
      "epoch #16 loss: 148.8166046142578\n",
      "epoch #17 loss: 117.96876525878906\n",
      "epoch #18 loss: 157.15487670898438\n",
      "epoch #19 loss: 103.91755676269531\n",
      "epoch #20 loss: 244.2555694580078\n",
      "epoch #21 loss: 275.5361022949219\n",
      "epoch #22 loss: 164.49131774902344\n",
      "epoch #23 loss: 113.25517272949219\n",
      "epoch #24 loss: 147.95974731445312\n",
      "epoch #25 loss: 167.17222595214844\n",
      "epoch #26 loss: 107.6091537475586\n",
      "epoch #27 loss: 136.2249298095703\n",
      "epoch #28 loss: 503.257568359375\n",
      "epoch #29 loss: 316.07586669921875\n",
      "epoch #30 loss: 118.68760681152344\n",
      "epoch #31 loss: 230.348388671875\n",
      "epoch #32 loss: 160.40682983398438\n",
      "epoch #33 loss: 151.51937866210938\n",
      "epoch #34 loss: 119.70013427734375\n",
      "epoch #35 loss: 124.5851058959961\n",
      "epoch #36 loss: 127.62249755859375\n",
      "epoch #37 loss: 265.5401306152344\n",
      "epoch #38 loss: 102.56498718261719\n",
      "epoch #39 loss: 224.635009765625\n",
      "epoch #40 loss: 190.18780517578125\n",
      "epoch #41 loss: 95.21005249023438\n",
      "epoch #42 loss: 182.57972717285156\n",
      "epoch #43 loss: 210.96322631835938\n",
      "epoch #44 loss: 92.0434341430664\n",
      "epoch #45 loss: 136.91099548339844\n",
      "epoch #46 loss: 125.38630676269531\n",
      "epoch #47 loss: 335.9058532714844\n",
      "epoch #48 loss: 122.4480972290039\n",
      "epoch #49 loss: 295.354248046875\n",
      "epoch #50 loss: 163.39358520507812\n",
      "epoch #51 loss: 133.11805725097656\n",
      "epoch #52 loss: 228.77584838867188\n",
      "epoch #53 loss: 181.1709747314453\n",
      "epoch #54 loss: 163.93310546875\n",
      "epoch #55 loss: 100.64356994628906\n",
      "epoch #56 loss: 406.74859619140625\n",
      "epoch #57 loss: 162.69784545898438\n",
      "epoch #58 loss: 80.30501556396484\n",
      "epoch #59 loss: 156.8601837158203\n",
      "epoch #60 loss: 110.0533218383789\n",
      "epoch #61 loss: 121.15679931640625\n",
      "epoch #62 loss: 304.6286926269531\n",
      "epoch #63 loss: 143.87892150878906\n",
      "epoch #64 loss: 114.36541748046875\n",
      "epoch #65 loss: 308.92852783203125\n",
      "epoch #66 loss: 210.49758911132812\n",
      "epoch #67 loss: 96.33426666259766\n",
      "epoch #68 loss: 296.1798095703125\n",
      "epoch #69 loss: 118.61982727050781\n",
      "epoch #70 loss: 115.042724609375\n",
      "epoch #71 loss: 122.76885986328125\n",
      "epoch #72 loss: 203.8431396484375\n",
      "epoch #73 loss: 329.4387512207031\n",
      "epoch #74 loss: 339.58746337890625\n",
      "epoch #75 loss: 246.4463348388672\n",
      "epoch #76 loss: 224.39724731445312\n",
      "epoch #77 loss: 154.3360137939453\n",
      "epoch #78 loss: 209.98507690429688\n",
      "epoch #79 loss: 168.52243041992188\n",
      "epoch #80 loss: 129.76190185546875\n",
      "epoch #81 loss: 125.1780014038086\n",
      "epoch #82 loss: 291.35150146484375\n",
      "epoch #83 loss: 167.39990234375\n",
      "epoch #84 loss: 302.28411865234375\n",
      "epoch #85 loss: 144.05276489257812\n",
      "epoch #86 loss: 165.08816528320312\n",
      "epoch #87 loss: 110.3443374633789\n",
      "epoch #88 loss: 234.2972412109375\n",
      "epoch #89 loss: 186.1178741455078\n",
      "epoch #90 loss: 177.4806365966797\n",
      "epoch #91 loss: 155.3146209716797\n",
      "epoch #92 loss: 119.18212890625\n",
      "epoch #93 loss: 234.20132446289062\n",
      "epoch #94 loss: 102.28656005859375\n",
      "epoch #95 loss: 169.2251739501953\n",
      "epoch #96 loss: 131.46141052246094\n",
      "epoch #97 loss: 342.4773864746094\n",
      "epoch #98 loss: 151.25914001464844\n",
      "epoch #99 loss: 97.90031433105469\n"
     ]
    }
   ],
   "source": [
    "\n",
    "device = torch.device(\"cuda\" if torch.cuda.is_available() else \"cpu\")\n",
    "model = Model_A(name='Model-A').to(device)\n",
    "optimizer = torch.optim.Adam(model.parameters(), lr=0.005)\n",
    "mse_loss = torch.nn.MSELoss()\n",
    "\n",
    "model.train()\n",
    "count=0\n",
    "total = 0\n",
    "for epoch in range(100):\n",
    "    for i, data in enumerate(trainLoader):\n",
    "        ## x.size() = (batch_size, seq_len)\n",
    "        ## y.size() = (batch_size. 1)\n",
    "        x, label = data \n",
    "        x = x.to(device)\n",
    "        label = label.to(device)\n",
    "\n",
    "        prediction = model(x)\n",
    "        loss = mse_loss(prediction,label)\n",
    "        optimizer.zero_grad()\n",
    "        loss.backward()\n",
    "        optimizer.step()\n",
    "        \n",
    "    print('epoch #{} loss: {}'.format(epoch,loss))"
   ]
  },
  {
   "cell_type": "code",
   "execution_count": 47,
   "metadata": {},
   "outputs": [],
   "source": [
    "def compute_confusion(pred, label):\n",
    "    result = torch.zeros(2,2)\n",
    "    for i in range(len(pred)):\n",
    "        if(pred[i]==1 and label[i]==1):\n",
    "            result[0][0]+=1\n",
    "        elif(pred[i]==0 and label[i]==1):\n",
    "            result[0][1]+=1\n",
    "        elif(pred[i]==1 and label[i]==0):\n",
    "            result[1][0]+=1\n",
    "        elif(pred[i]==0 and label[i]==0):\n",
    "            result[1][1]+=1\n",
    "    return result"
   ]
  },
  {
   "cell_type": "code",
   "execution_count": 48,
   "metadata": {},
   "outputs": [],
   "source": [
    "model.eval()\n",
    "results_reg = []\n",
    "labels_reg = []\n",
    "correct = 0\n",
    "total = 0\n",
    "# count_label = 0\n",
    "# count_pred = 0\n",
    "confusion = torch.zeros(2,2)\n",
    "with torch.no_grad():\n",
    "    for i, data in enumerate(testLoader):\n",
    "            x, (y_reg, y_cla) = data\n",
    "            ## x.size() = (batch_size, seq_len)\n",
    "            ## y.size() = (batch_size. 1)\n",
    "            if(i==0):\n",
    "                results_reg+=list(x[0].numpy())\n",
    "                labels_reg+=list(x[0].numpy())          \n",
    "            x = x.unsqueeze(2).to(device)\n",
    "            out_reg = model(x)     \n",
    "            \n",
    "            label_reg = list(np.concatenate(y_reg.numpy()))     \n",
    "            results_reg+=list(np.concatenate(out_reg.cpu().numpy()))\n",
    "            labels_reg+=label_reg\n"
   ]
  },
  {
   "cell_type": "code",
   "execution_count": 49,
   "metadata": {},
   "outputs": [
    {
     "name": "stdout",
     "output_type": "stream",
     "text": [
      "total =  822\n",
      "402\n",
      "411\n",
      "RTT实际增大，预测增大的次数： 0.0\n",
      "RTT实际增大，预测减小的次数： 0.0\n",
      "RTT实际减小，预测增大的次数： 0.0\n",
      "RTT实际减小，预测减小的次数： 0.0\n",
      "\n",
      "精确率 = nan%\n",
      "召回率 = nan%\n"
     ]
    },
    {
     "name": "stderr",
     "output_type": "stream",
     "text": [
      "/tmp/ipykernel_3201287/3359948882.py:28: RuntimeWarning: invalid value encountered in float_scalars\n",
      "  print('精确率 = {}%'.format(round(confusion[0][0]/(confusion[0][0]+confusion[1][0]) * 100, 2)))\n",
      "/tmp/ipykernel_3201287/3359948882.py:29: RuntimeWarning: invalid value encountered in float_scalars\n",
      "  print('召回率 = {}%'.format(round(confusion[0][0]/(confusion[0][0]+confusion[0][1]) * 100, 2)))\n"
     ]
    }
   ],
   "source": [
    "# torch.save(model.state_dict(), \"./model/save/FCNet.pth\")\n",
    "\n",
    "results_cla = []\n",
    "labels_cla = []\n",
    "for i in range(len(results_reg)-2):\n",
    "    if((results_reg[i+1]+ results_reg[i+2])/2 - results_reg[i] > 0):\n",
    "        results_cla.append(True)\n",
    "    else:\n",
    "        results_cla.append(False)\n",
    "    \n",
    "    if((labels_reg[i+1]+ labels_reg[i+2])/2 - labels_reg[i] > 0):\n",
    "        labels_cla.append(True)\n",
    "    else:\n",
    "        labels_cla.append(False)\n",
    "        \n",
    "print('total = ', len(results_cla))\n",
    "print(np.array(results_cla).sum())\n",
    "print(np.array(labels_cla).sum())        \n",
    "        \n",
    "    \n",
    "\n",
    "confusion = confusion.numpy()\n",
    "print('RTT实际增大，预测增大的次数：', confusion[0][0])\n",
    "print('RTT实际增大，预测减小的次数：', confusion[0][1])\n",
    "print('RTT实际减小，预测增大的次数：', confusion[1][0])\n",
    "print('RTT实际减小，预测减小的次数：', confusion[1][1])\n",
    "print()\n",
    "print('精确率 = {}%'.format(round(confusion[0][0]/(confusion[0][0]+confusion[1][0]) * 100, 2)))\n",
    "print('召回率 = {}%'.format(round(confusion[0][0]/(confusion[0][0]+confusion[0][1]) * 100, 2)))"
   ]
  },
  {
   "cell_type": "code",
   "execution_count": 50,
   "metadata": {},
   "outputs": [
    {
     "name": "stdout",
     "output_type": "stream",
     "text": [
      "824\n",
      "824\n"
     ]
    },
    {
     "data": {
      "image/png": "[encoded data removed]",
      "text/plain": [
       "<Figure size 1008x504 with 1 Axes>"
      ]
     },
     "metadata": {
      "needs_background": "light"
     },
     "output_type": "display_data"
    }
   ],
   "source": [
    "import numpy as np\n",
    "\n",
    "LINE_WIDTH=2.5\n",
    "FONT_SIZE = 28\n",
    "\n",
    "results_reg = np.array(results_reg)\n",
    "# results_cla = np.array(results_cla)\n",
    "labels_reg = np.array(labels_reg)\n",
    "# labels_cla = np.array(labels_cla)\n",
    "\n",
    "plt.figure(figsize=(14,7))#设置画布的尺寸\n",
    "plt.title('Examples of line chart',fontsize=20)#标题，并设定字号大小\n",
    "plt.xlabel('time',fontsize=14)#设置x轴，并设定字号大小\n",
    "plt.ylabel('elec',fontsize=14)#设置y轴，并设定字号大小\n",
    " \n",
    "\n",
    "plot_range = [400,500]\n",
    "plot_len = plot_range[1] - plot_range[0]\n",
    "\n",
    "print(len(results_reg))\n",
    "print(len(labels_reg))\n",
    "\n",
    "SHIFT = -1\n",
    "\n",
    "plt.plot(list(range(plot_len)), results_reg[plot_range[0]:plot_range[1]], label='Actual RTT',  linewidth=LINE_WIDTH)\n",
    "plt.plot(list(range(plot_len)), labels_reg[plot_range[0]+SHIFT:plot_range[1]+SHIFT], label='Predictions',  linewidth=LINE_WIDTH)\n",
    "plt.legend(loc='upper left', fontsize=25)\n",
    "\n",
    "#设置坐标标签标注和字体大小\n",
    "plt.xlabel(\"Time\",fontsize=FONT_SIZE)\n",
    "plt.ylabel(\"RTT (ms)\",fontsize=FONT_SIZE)\n",
    "\n",
    "#设置坐标刻度字体大小\n",
    "plt.xticks(fontsize=FONT_SIZE*0.8)\n",
    "plt.yticks(fontsize=FONT_SIZE*0.8)\n",
    "\n",
    "plt.title(\" \")\n",
    "plt.savefig(f\"./sample.png\",bbox_inches = 'tight')\n",
    "plt.show()\n"
   ]
  },
  {
   "cell_type": "code",
   "execution_count": null,
   "metadata": {},
   "outputs": [],
   "source": []
  },
  {
   "cell_type": "code",
   "execution_count": null,
   "metadata": {},
   "outputs": [],
   "source": []
  },
  {
   "cell_type": "code",
   "execution_count": null,
   "metadata": {},
   "outputs": [
    {
     "name": "stdout",
     "output_type": "stream",
     "text": [
      "epoch #0 loss: 199.32009887695312\n",
      "epoch #1 loss: 349.08905029296875\n",
      "epoch #2 loss: 114.07221984863281\n",
      "epoch #3 loss: 90.03346252441406\n",
      "epoch #4 loss: 219.10916137695312\n",
      "epoch #5 loss: 241.0765838623047\n",
      "epoch #6 loss: 153.25155639648438\n",
      "epoch #7 loss: 203.5886688232422\n",
      "epoch #8 loss: 156.15585327148438\n",
      "epoch #9 loss: 364.92626953125\n",
      "epoch #10 loss: 126.7940673828125\n",
      "epoch #11 loss: 164.31671142578125\n",
      "epoch #12 loss: 135.61212158203125\n",
      "epoch #13 loss: 378.4990234375\n",
      "epoch #14 loss: 324.388671875\n",
      "epoch #15 loss: 67.16523742675781\n",
      "epoch #16 loss: 158.68524169921875\n",
      "epoch #17 loss: 199.12828063964844\n",
      "epoch #18 loss: 191.7657470703125\n",
      "epoch #19 loss: 236.52774047851562\n",
      "epoch #20 loss: 228.63101196289062\n",
      "epoch #21 loss: 216.85928344726562\n",
      "epoch #22 loss: 130.80819702148438\n",
      "epoch #23 loss: 155.7127227783203\n",
      "epoch #24 loss: 76.63455200195312\n",
      "epoch #25 loss: 288.1443176269531\n",
      "epoch #26 loss: 196.27822875976562\n",
      "epoch #27 loss: 257.7084655761719\n",
      "epoch #28 loss: 224.0548095703125\n",
      "epoch #29 loss: 243.37008666992188\n",
      "epoch #30 loss: 272.0773620605469\n",
      "epoch #31 loss: 108.57108306884766\n",
      "epoch #32 loss: 201.36338806152344\n",
      "epoch #33 loss: 199.1888885498047\n",
      "epoch #34 loss: 159.99256896972656\n",
      "epoch #35 loss: 118.88763427734375\n",
      "epoch #36 loss: 291.7755126953125\n",
      "epoch #37 loss: 198.25685119628906\n",
      "epoch #38 loss: 139.97500610351562\n",
      "epoch #39 loss: 186.33767700195312\n",
      "epoch #40 loss: 211.71572875976562\n",
      "epoch #41 loss: 73.65440368652344\n",
      "epoch #42 loss: 321.1741943359375\n",
      "epoch #43 loss: 110.86378479003906\n",
      "epoch #44 loss: 260.4253845214844\n",
      "epoch #45 loss: 190.34530639648438\n",
      "epoch #46 loss: 102.2364501953125\n",
      "epoch #47 loss: 66.24047088623047\n",
      "epoch #48 loss: 75.02529907226562\n",
      "epoch #49 loss: 155.22671508789062\n",
      "epoch #50 loss: 115.44693756103516\n",
      "epoch #51 loss: 115.72349548339844\n",
      "epoch #52 loss: 109.18099212646484\n",
      "epoch #53 loss: 132.9434356689453\n",
      "epoch #54 loss: 150.0650177001953\n"
     ]
    }
   ],
   "source": [
    "%run delay_forecast.py"
   ]
  },
  {
   "cell_type": "code",
   "execution_count": 23,
   "metadata": {},
   "outputs": [],
   "source": [
    "x = []\n",
    "x.append([])\n",
    "x.append([])\n",
    "x.append([]) \n",
    "x.append([])"
   ]
  },
  {
   "cell_type": "code",
   "execution_count": 24,
   "metadata": {},
   "outputs": [
    {
     "data": {
      "text/plain": [
       "4"
      ]
     },
     "execution_count": 24,
     "metadata": {},
     "output_type": "execute_result"
    }
   ],
   "source": [
    "len(x)"
   ]
  },
  {
   "cell_type": "code",
   "execution_count": 25,
   "metadata": {},
   "outputs": [
    {
     "data": {
      "text/plain": [
       "[[], [], [], []]"
      ]
     },
     "execution_count": 25,
     "metadata": {},
     "output_type": "execute_result"
    }
   ],
   "source": [
    "x"
   ]
  },
  {
   "cell_type": "code",
   "execution_count": null,
   "metadata": {},
   "outputs": [],
   "source": []
  },
  {
   "cell_type": "code",
   "execution_count": null,
   "metadata": {},
   "outputs": [],
   "source": []
  }
 ],
 "metadata": {
  "kernelspec": {
   "display_name": "Python 3 (ipykernel)",
   "language": "python",
   "name": "python3"
  },
  "language_info": {
   "codemirror_mode": {
    "name": "ipython",
    "version": 3
   },
   "file_extension": ".py",
   "mimetype": "text/x-python",
   "name": "python",
   "nbconvert_exporter": "python",
   "pygments_lexer": "ipython3",
   "version": "3.8.10"
  }
 },
 "nbformat": 4,
 "nbformat_minor": 4
}
