{
 "cells": [
  {
   "cell_type": "code",
   "execution_count": 1,
   "id": "c8bbaf45-926d-43fe-b92d-a41a705a8c56",
   "metadata": {},
   "outputs": [],
   "source": [
    "from Model_A import Model_A\n",
    "from dataset import *\n",
    "from torch.utils.data import Dataset, DataLoader \n",
    "from matplotlib import pyplot as plt \n",
    "import numpy as np\n",
    "import time\n"
   ]
  },
  {
   "cell_type": "code",
   "execution_count": 2,
   "id": "88241a5f-b3e4-4741-a24d-f8287446d5ba",
   "metadata": {},
   "outputs": [
    {
     "data": {
      "text/plain": [
       "1648454005.2105012"
      ]
     },
     "execution_count": 2,
     "metadata": {},
     "output_type": "execute_result"
    }
   ],
   "source": [
    "data_path = \"../../results/model_A_dataset.csv\"\n",
    "\n",
    "trainSet = MotorData(data_path=data_path, train=True)\n",
    "testSet = MotorData(data_path=data_path, train=False)\n",
    "trainLoader = DataLoader(dataset=trainSet, batch_size=16,shuffle=True)\n",
    "testLoader = DataLoader(dataset=testSet, batch_size=16,shuffle=False)\n",
    "\n",
    "time.time()"
   ]
  },
  {
   "cell_type": "code",
   "execution_count": 3,
   "id": "52d01059-18d5-4c2c-b611-f432f45872d3",
   "metadata": {},
   "outputs": [
    {
     "name": "stdout",
     "output_type": "stream",
     "text": [
      "epoch #0 loss: 0.3300881087779999\n",
      "epoch #1 loss: 0.15299516916275024\n",
      "epoch #2 loss: 0.2226037234067917\n",
      "epoch #3 loss: 0.20253051817417145\n",
      "epoch #4 loss: 0.10324659198522568\n",
      "epoch #5 loss: 0.053042035549879074\n",
      "epoch #6 loss: 0.02542201243340969\n",
      "epoch #7 loss: 0.05425054207444191\n",
      "epoch #8 loss: 0.025099925696849823\n",
      "epoch #9 loss: 0.018688146024942398\n",
      "epoch #10 loss: 0.0113363116979599\n",
      "epoch #11 loss: 0.009880714118480682\n",
      "epoch #12 loss: 0.019946234300732613\n",
      "epoch #13 loss: 0.007387710269540548\n",
      "epoch #14 loss: 0.013463214039802551\n",
      "epoch #15 loss: 0.006744867190718651\n",
      "epoch #16 loss: 0.003172065829858184\n",
      "epoch #17 loss: 0.0010608915472403169\n",
      "epoch #18 loss: 0.0005872706533409655\n",
      "epoch #19 loss: 0.0003292122855782509\n",
      "epoch #20 loss: 0.00018006160098593682\n",
      "epoch #21 loss: 0.00013519110507331789\n",
      "epoch #22 loss: 4.0760885894997045e-05\n",
      "epoch #23 loss: 7.132864266168326e-05\n",
      "epoch #24 loss: 0.0003896196431014687\n",
      "epoch #25 loss: 2.3604618036188185e-05\n",
      "epoch #26 loss: 2.2697598978993483e-05\n",
      "epoch #27 loss: 5.2970353863202035e-06\n",
      "epoch #28 loss: 4.942702435073443e-05\n",
      "epoch #29 loss: 3.810171256191097e-05\n",
      "epoch #30 loss: 3.5504774132277817e-05\n",
      "epoch #31 loss: 7.179813837865368e-05\n",
      "epoch #32 loss: 4.828827877645381e-05\n",
      "epoch #33 loss: 5.156347469892353e-05\n",
      "epoch #34 loss: 4.5346852857619524e-05\n",
      "epoch #35 loss: 4.015387094113976e-05\n",
      "epoch #36 loss: 4.1039111238205805e-05\n",
      "epoch #37 loss: 3.859903517877683e-05\n",
      "epoch #38 loss: 9.018919809022918e-05\n",
      "epoch #39 loss: 0.0001159539315267466\n",
      "epoch #40 loss: 7.422168710036203e-05\n",
      "epoch #41 loss: 4.5689186663366854e-05\n",
      "epoch #42 loss: 1.474629152653506e-05\n",
      "epoch #43 loss: 3.289496453362517e-05\n",
      "epoch #44 loss: 4.510258077061735e-05\n",
      "epoch #45 loss: 5.693560524377972e-05\n",
      "epoch #46 loss: 0.0005059672403149307\n",
      "epoch #47 loss: 4.761408854392357e-05\n",
      "epoch #48 loss: 0.0002020293177338317\n",
      "epoch #49 loss: 4.035582242067903e-05\n",
      "45.36023950576782\n"
     ]
    }
   ],
   "source": [
    "device = torch.device(\"cuda\" if torch.cuda.is_available() else \"cpu\")\n",
    "model = Model_A(name=\"Model_A\").to(device)\n",
    "optimizer = torch.optim.Adam(model.parameters(), lr=0.001)\n",
    "mse_loss = torch.nn.MSELoss()\n",
    "\n",
    "model.train()\n",
    "count=0\n",
    "total = 0\n",
    "mse_loss_record = []\n",
    "start_time = time.time()\n",
    "for epoch in range(50):\n",
    "    for i, data in enumerate(trainLoader):\n",
    "        ## x.size() = (batch_size, 2)\n",
    "        ## y.size() = (batch_size. 1)\n",
    "        x, label = data \n",
    "        x = x.to(torch.float32).to(device)\n",
    "        label = label.to(torch.float32).to(device)\n",
    "\n",
    "        prediction = model(x)\n",
    "        loss = mse_loss(prediction,label)\n",
    "        optimizer.zero_grad()\n",
    "        loss.backward()\n",
    "        optimizer.step()\n",
    "    print('epoch #{} loss: {}'.format(epoch,loss))\n",
    "    mse_loss_record.append(loss.detach().numpy())\n",
    "\n",
    "print((time.time()-start_time))"
   ]
  },
  {
   "cell_type": "code",
   "execution_count": 4,
   "id": "0939d7ff-d663-4c01-9078-ee4485039471",
   "metadata": {},
   "outputs": [
    {
     "name": "stdout",
     "output_type": "stream",
     "text": [
      "1.03759765625\n"
     ]
    }
   ],
   "source": [
    "model.eval()\n",
    "start_time = time.time()*1000\n",
    "prediction = model(torch.tensor([1.0,1.0])) \n",
    "print(time.time()*1000-start_time)"
   ]
  },
  {
   "cell_type": "code",
   "execution_count": 4,
   "id": "065572f9-4a4b-47e6-856c-b74d4273f6ab",
   "metadata": {},
   "outputs": [
    {
     "name": "stdout",
     "output_type": "stream",
     "text": [
      "tensor(1.9743)\n"
     ]
    }
   ],
   "source": [
    "model.eval()\n",
    "results_reg = []\n",
    "labels_reg = []\n",
    "correct = 0\n",
    "total = 0\n",
    "# count_label = 0\n",
    "# count_pred = 0\n",
    "confusion = torch.zeros(2,2)\n",
    "\n",
    "loss_total = 0\n",
    "with torch.no_grad():\n",
    "    for i, data in enumerate(trainLoader):\n",
    "        x, label = data\n",
    "        ## x.size() = (batch_size, seq_len)\n",
    "        ## y.size() = (batch_size. 1)\n",
    "        if(i==0):\n",
    "            results_reg+=list(x[0].numpy())\n",
    "            labels_reg+=list(x[0].numpy())          \n",
    "        x = x.to(device)\n",
    "        prediction = model(x) \n",
    "        loss = mse_loss(label, prediction)\n",
    "        loss_total += loss\n",
    "\n",
    "testset_mse_loss = loss_total / len(testLoader)\n",
    "print(testset_mse_loss)"
   ]
  },
  {
   "cell_type": "code",
   "execution_count": 7,
   "id": "d27a7807-6a25-40ec-96fd-4c02395e3096",
   "metadata": {},
   "outputs": [
    {
     "name": "stdout",
     "output_type": "stream",
     "text": [
      "tensor(0.0009, dtype=torch.float64)\n"
     ]
    }
   ],
   "source": [
    "model.eval()\n",
    "results_reg = []\n",
    "labels_reg = []\n",
    "correct = 0\n",
    "total = 0\n",
    "# count_label = 0\n",
    "# count_pred = 0\n",
    "confusion = torch.zeros(2,2)\n",
    "\n",
    "loss_total = 0\n",
    "with torch.no_grad():\n",
    "    for i, data in enumerate(testLoader):\n",
    "        x, label = data\n",
    "        ## x.size() = (batch_size, seq_len)\n",
    "        ## y.size() = (batch_size. 1)\n",
    "        if(i==0):\n",
    "            results_reg+=list(x[0].numpy())\n",
    "            labels_reg+=list(x[0].numpy())          \n",
    "        x = x.to(device)\n",
    "        prediction = model(x) \n",
    "        loss = mse_loss(label, prediction)\n",
    "        loss_total += loss\n",
    "\n",
    "testset_mse_loss = loss_total / len(testLoader)\n",
    "print(testset_mse_loss)"
   ]
  },
  {
   "cell_type": "code",
   "execution_count": 12,
   "id": "654512b1-2813-4c34-8d4a-f42ea1917e4e",
   "metadata": {},
   "outputs": [
    {
     "data": {
      "image/png": "[encoded data removed]",
      "text/plain": [
       "<Figure size 1008x504 with 1 Axes>"
      ]
     },
     "metadata": {
      "needs_background": "light"
     },
     "output_type": "display_data"
    }
   ],
   "source": [
    "import numpy as np\n",
    "\n",
    "LINE_WIDTH=2.5\n",
    "FONT_SIZE = 28\n",
    "\n",
    "\n",
    "plt.figure(figsize=(14,7))#设置画布的尺寸\n",
    "plt.title('Examples of line chart',fontsize=20)#标题，并设定字号大小\n",
    " \n",
    "plt.plot(list(range(len(mse_loss_record))),mse_loss_record, linewidth=LINE_WIDTH)\n",
    "# plt.legend(loc='upper left', fontsize=25)\n",
    "\n",
    "#设置坐标标签标注和字体大小\n",
    "plt.xlabel(\"Epoch\",fontsize=FONT_SIZE)\n",
    "plt.ylabel(\"MSE Loss\",fontsize=FONT_SIZE)\n",
    "\n",
    "#设置坐标刻度字体大小\n",
    "plt.xticks(fontsize=FONT_SIZE*0.8)\n",
    "plt.yticks(fontsize=FONT_SIZE*0.8)\n",
    "\n",
    "plt.title(\" \")\n",
    "plt.savefig(f\"./mse_loss.png\",bbox_inches = 'tight')\n",
    "plt.show()"
   ]
  },
  {
   "cell_type": "code",
   "execution_count": null,
   "id": "d4b74cc3-3573-4513-9129-9b51fcf57f43",
   "metadata": {},
   "outputs": [],
   "source": []
  }
 ],
 "metadata": {
  "kernelspec": {
   "display_name": "Python 3 (ipykernel)",
   "language": "python",
   "name": "python3"
  },
  "language_info": {
   "codemirror_mode": {
    "name": "ipython",
    "version": 3
   },
   "file_extension": ".py",
   "mimetype": "text/x-python",
   "name": "python",
   "nbconvert_exporter": "python",
   "pygments_lexer": "ipython3",
   "version": "3.8.10"
  }
 },
 "nbformat": 4,
 "nbformat_minor": 5
}
