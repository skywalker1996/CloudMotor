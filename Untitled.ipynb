{
 "cells": [
  {
   "cell_type": "code",
   "execution_count": 1,
   "id": "d071cbdb-e030-4941-a901-7dc2af0d20c3",
   "metadata": {},
   "outputs": [
    {
     "name": "stdout",
     "output_type": "stream",
     "text": [
      "sleep time = 9.5849609375\n",
      "sleep time = 3.32958984375\n",
      "sleep time = 1.494384765625\n",
      "sleep time = 13.296142578125\n",
      "sleep time = 69.126708984375\n",
      "sleep time = 10.241943359375\n",
      "sleep time = 26.97021484375\n",
      "sleep time = 2.3203125\n",
      "sleep time = 31.69921875\n",
      "sleep time = 166.2236328125\n",
      "sleep time = 16.982666015625\n",
      "sleep time = 26.897216796875\n",
      "sleep time = 24.97314453125\n",
      "sleep time = 45.55908203125\n",
      "sleep time = 12.787353515625\n",
      "sleep time = 9.418701171875\n",
      "sleep time = 20.456787109375\n",
      "sleep time = 44.998779296875\n",
      "sleep time = 32.042724609375\n",
      "sleep time = 34.861083984375\n",
      "运行结束！\n"
     ]
    }
   ],
   "source": [
    "import sys\n",
    "\n",
    "from simplejson import JSONDecodeError\n",
    "\n",
    "from motor import Motor\n",
    "import time\n",
    "from simple_pid import PID\n",
    "from utils.utils import *\n",
    "import socket\n",
    "import matplotlib.pylab as plt\n",
    "import json\n",
    "import os\n",
    "import argparse\n",
    "from threading import Lock, Thread\n",
    "\n",
    "from configs.configLoader import configLoader\n",
    "\n",
    "\n",
    "class MotorClient:\n",
    "    \"\"\"\n",
    "    MotorClient\n",
    "    \"\"\"\n",
    "    def __init__(self, client_id, target_rpm, mark, control_interval):\n",
    "\n",
    "        self.client_id = client_id\n",
    "        self.target_rpm = target_rpm\n",
    "        self.control_interval = control_interval\n",
    "\n",
    "        self.mark = mark\n",
    "\n",
    "        self.motor = Motor(id=self.client_id, nominal_rpm=self.target_rpm)\n",
    "\n",
    "        self.config_loader = configLoader()\n",
    "\n",
    "        self.running_time = self.config_loader.get_running_time()\n",
    "        self.client_address = self.config_loader.get_client_address()\n",
    "        self.server_address = None\n",
    "\n",
    "        self.client_sock = socket.socket(socket.AF_INET, socket.SOCK_DGRAM)\n",
    "        self.client_sock.setsockopt(socket.SOL_SOCKET, socket.SO_REUSEADDR, 1)\n",
    "        self.client_sock.bind((self.client_address[0], self.client_address[1]))\n",
    "\n",
    "        self.upload_thread = Thread(target=self.upload_service, args=())\n",
    "        # self.control_thread = Thread(target=self.control_service, args=())\n",
    "\n",
    "    def start(self):\n",
    "        self.upload_thread.setDaemon(True)\n",
    "        self.upload_thread.start()\n",
    "        self.upload_thread.join()\n",
    "\n",
    "\n",
    "    def upload_service(self):\n",
    "        self.motor.start()\n",
    "        self.start_time = time.time()\n",
    "        i=0\n",
    "        while (True):\n",
    "            i+=1\n",
    "            time_1 = time.time()*1000\n",
    "            time.sleep(0.001)\n",
    "            print(f\"sleep time = {time.time()*1000 - time_1}\")\n",
    "            if i >= 20:\n",
    "                break\n",
    "        print(\"运行结束！\")\n",
    "\n",
    "if __name__ == \"__main__\":\n",
    "    motorClient = MotorClient(\"001\", 3000, \"test\", 5)\n",
    "    motorClient.start()\n",
    "    # sys.exit()\n"
   ]
  },
  {
   "cell_type": "code",
   "execution_count": 1,
   "id": "656c3663-08ac-46ac-9390-081f9c9db2be",
   "metadata": {},
   "outputs": [
    {
     "name": "stdout",
     "output_type": "stream",
     "text": [
      "sleep time = 5.09765625\n",
      "sleep time = 5.13916015625\n",
      "sleep time = 5.0927734375\n",
      "sleep time = 5.14111328125\n",
      "sleep time = 5.064208984375\n",
      "sleep time = 5.064208984375\n",
      "sleep time = 5.0654296875\n",
      "sleep time = 5.064697265625\n",
      "sleep time = 5.06298828125\n",
      "sleep time = 5.065673828125\n",
      "sleep time = 5.064453125\n",
      "sleep time = 5.255126953125\n",
      "sleep time = 5.065673828125\n",
      "sleep time = 5.06982421875\n",
      "sleep time = 5.066650390625\n",
      "sleep time = 5.0654296875\n",
      "sleep time = 5.070556640625\n",
      "sleep time = 5.069091796875\n",
      "sleep time = 5.064453125\n",
      "sleep time = 5.067138671875\n"
     ]
    }
   ],
   "source": [
    "import sys\n",
    "\n",
    "from simplejson import JSONDecodeError\n",
    "\n",
    "from motor import Motor\n",
    "import time\n",
    "from simple_pid import PID\n",
    "from utils.utils import *\n",
    "import socket\n",
    "import matplotlib.pylab as plt\n",
    "import json\n",
    "import os\n",
    "import argparse\n",
    "from threading import Lock, Thread\n",
    "\n",
    "from configs.configLoader import configLoader\n",
    "\n",
    "\n",
    "class MotorClient:\n",
    "    \"\"\"\n",
    "    MotorClient\n",
    "    \"\"\"\n",
    "    def __init__(self, client_id, target_rpm, mark, control_interval):\n",
    "\n",
    "        self.client_id = client_id\n",
    "        self.target_rpm = target_rpm\n",
    "        self.control_interval = control_interval\n",
    "\n",
    "        self.mark = mark\n",
    "\n",
    "        self.motor = Motor(id=self.client_id, nominal_rpm=self.target_rpm)\n",
    "\n",
    "        self.upload_thread = Thread(target=self.upload_service, args=())\n",
    "        \n",
    "        # self.control_thread = Thread(target=self.control_service, args=())\n",
    "\n",
    "    def start(self):\n",
    "        self.upload_thread.setDaemon(True)\n",
    "        self.upload_thread.start()\n",
    "\n",
    "\n",
    "    def upload_service(self):\n",
    "        self.motor.start()\n",
    "        i=0\n",
    "        while (True):\n",
    "            i+=1\n",
    "            time_1 = time.time()*1000\n",
    "            time.sleep(0.005)      \n",
    "            print(f\"sleep time = {time.time()*1000 - time_1}\")       \n",
    "            if i >= 20:\n",
    "                break\n",
    "        \n",
    "\n",
    "if __name__ == \"__main__\":\n",
    "    motorClient = MotorClient(\"001\", 3000, \"test\", 5)\n",
    "    motorClient.start()\n",
    "    # sys.exit()"
   ]
  },
  {
   "cell_type": "code",
   "execution_count": null,
   "id": "003ba0da-571f-4d0f-aaf7-4a003d38534f",
   "metadata": {},
   "outputs": [],
   "source": []
  },
  {
   "cell_type": "code",
   "execution_count": null,
   "id": "e202f763-0a07-456e-acf6-48f8295ea721",
   "metadata": {},
   "outputs": [],
   "source": []
  },
  {
   "cell_type": "code",
   "execution_count": null,
   "id": "4c77ef13-f823-44ae-8251-92cbbbc88915",
   "metadata": {},
   "outputs": [],
   "source": []
  },
  {
   "cell_type": "code",
   "execution_count": null,
   "id": "c5734c5a-6674-40aa-a194-f2e2bd85c0be",
   "metadata": {},
   "outputs": [],
   "source": []
  },
  {
   "cell_type": "code",
   "execution_count": 57,
   "id": "74312b17-01ad-49bf-9896-0682322eedca",
   "metadata": {},
   "outputs": [
    {
     "data": {
      "image/png": "[encoded data removed]",
      "text/plain": [
       "<Figure size 432x288 with 1 Axes>"
      ]
     },
     "metadata": {
      "needs_background": "light"
     },
     "output_type": "display_data"
    }
   ],
   "source": [
    "import numpy as np\n",
    "import matplotlib.pyplot as plt\n",
    "\n",
    "\n",
    "delay_mean = shape*(shape/ratio)\n",
    "\n",
    "\n",
    "ratio = 2  # shape/scale\n",
    "\n",
    "shape = np.sqrt(delay_mean * ratio)\n",
    "scale = shape/ratio\n",
    "s = np.random.gamma(shape,scale,10000)\n",
    "\n",
    "count, bins, ignored = plt.hist(s, 50, density=True)\n",
    "plt.plot(bins[:-1], count, linewidth=2, color='r')  \n",
    "plt.show()\n"
   ]
  },
  {
   "cell_type": "code",
   "execution_count": 85,
   "id": "8157d458-ab3c-478f-a725-4c2864660caa",
   "metadata": {},
   "outputs": [
    {
     "data": {
      "image/png": "[encoded data removed]",
      "text/plain": [
       "<Figure size 432x288 with 1 Axes>"
      ]
     },
     "metadata": {
      "needs_background": "light"
     },
     "output_type": "display_data"
    }
   ],
   "source": [
    "import numpy as np\n",
    "import matplotlib.pyplot as plt\n",
    "\n",
    "\n",
    "delay_mean = 30\n",
    "\n",
    "\n",
    "shape = 3\n",
    "scale = delay_mean/shape\n",
    "s = np.random.gamma(shape,scale,10000)\n",
    "\n",
    "count, bins, ignored = plt.hist(s, 50, density=True)\n",
    "plt.plot(bins[:-1], count, linewidth=2, color='r')  \n",
    "plt.show()"
   ]
  },
  {
   "cell_type": "code",
   "execution_count": 101,
   "id": "eda1d9e1-fb7b-42d1-a162-4627f5abc912",
   "metadata": {},
   "outputs": [
    {
     "data": {
      "image/png": "[encoded data removed]",
      "text/plain": [
       "<Figure size 432x288 with 1 Axes>"
      ]
     },
     "metadata": {
      "needs_background": "light"
     },
     "output_type": "display_data"
    }
   ],
   "source": [
    "import numpy as np\n",
    "import matplotlib.pyplot as plt\n",
    "\n",
    "\n",
    "delay_mean = 50\n",
    "\n",
    "\n",
    "shape = 5\n",
    "scale = delay_mean/shape\n",
    "s = np.random.gamma(shape,scale,10000)\n",
    "\n",
    "count, bins, ignored = plt.hist(s, 50, density=True)\n",
    "plt.plot(bins[:-1], count, linewidth=2, color='r')  \n",
    "plt.show()"
   ]
  },
  {
   "cell_type": "code",
   "execution_count": 88,
   "id": "8ee994ae-bdd1-406d-8081-0d7a84060d30",
   "metadata": {},
   "outputs": [
    {
     "data": {
      "image/png": "[encoded data removed]",
      "text/plain": [
       "<Figure size 432x288 with 1 Axes>"
      ]
     },
     "metadata": {
      "needs_background": "light"
     },
     "output_type": "display_data"
    }
   ],
   "source": [
    "import numpy as np\n",
    "import matplotlib.pyplot as plt\n",
    "\n",
    "\n",
    "delay_mean = 30\n",
    "\n",
    "\n",
    "shape = 50\n",
    "scale = delay_mean/shape\n",
    "s = np.random.gamma(shape,scale,10000)\n",
    "\n",
    "count, bins, ignored = plt.hist(s, 50, density=True)\n",
    "plt.plot(bins[:-1], count, linewidth=2, color='r')  \n",
    "plt.show()"
   ]
  },
  {
   "cell_type": "code",
   "execution_count": null,
   "id": "10a13b02-2954-42bd-8e83-076bd4a97736",
   "metadata": {},
   "outputs": [],
   "source": []
  }
 ],
 "metadata": {
  "kernelspec": {
   "display_name": "Python 3 (ipykernel)",
   "language": "python",
   "name": "python3"
  },
  "language_info": {
   "codemirror_mode": {
    "name": "ipython",
    "version": 3
   },
   "file_extension": ".py",
   "mimetype": "text/x-python",
   "name": "python",
   "nbconvert_exporter": "python",
   "pygments_lexer": "ipython3",
   "version": "3.8.10"
  }
 },
 "nbformat": 4,
 "nbformat_minor": 5
}
