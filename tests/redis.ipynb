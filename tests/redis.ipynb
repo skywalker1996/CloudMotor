{
 "cells": [
  {
   "cell_type": "code",
   "execution_count": 34,
   "id": "8c0d6d54-3d1f-4008-bd97-063a85e07f4c",
   "metadata": {},
   "outputs": [],
   "source": [
    "import redis\n",
    "\n",
    "redis_client = redis.StrictRedis(host='172.30.38.194', port=6379, db=0, decode_responses=True)\n",
    "# redis_client = redis.StrictRedis(host='127.0.0.1', port=6379, db=0, decode_responses=True)"
   ]
  },
  {
   "cell_type": "code",
   "execution_count": 35,
   "id": "1b2c1065-cf74-46a2-a62c-3752da7cb643",
   "metadata": {},
   "outputs": [
    {
     "data": {
      "text/plain": [
       "True"
      ]
     },
     "execution_count": 35,
     "metadata": {},
     "output_type": "execute_result"
    }
   ],
   "source": [
    "redis_client.set(0, 98.7)"
   ]
  },
  {
   "cell_type": "code",
   "execution_count": 39,
   "id": "54b3d724-f95a-4fd8-b629-455886636e85",
   "metadata": {},
   "outputs": [
    {
     "data": {
      "text/plain": [
       "True"
      ]
     },
     "execution_count": 39,
     "metadata": {},
     "output_type": "execute_result"
    }
   ],
   "source": [
    "\n",
    "results = [1,2,3,4,5]\n",
    "redis_client.set(\"results\", str(results))"
   ]
  },
  {
   "cell_type": "code",
   "execution_count": 18,
   "id": "86a3af9c-f406-492a-87b9-bd1b759d09e5",
   "metadata": {},
   "outputs": [
    {
     "data": {
      "text/plain": [
       "'2'"
      ]
     },
     "execution_count": 18,
     "metadata": {},
     "output_type": "execute_result"
    }
   ],
   "source": [
    "redis_client.incr(\"id\")\n",
    "redis_client.get(\"id\")"
   ]
  },
  {
   "cell_type": "code",
   "execution_count": 53,
   "id": "4e372d7a-bba4-49e0-92bd-783400de49e0",
   "metadata": {},
   "outputs": [],
   "source": [
    "# redis_client.rpush(0,0.001,10,95.6)"
   ]
  },
  {
   "cell_type": "code",
   "execution_count": 54,
   "id": "415a6e59-22a0-4e9c-91f7-8e286f1f5fe9",
   "metadata": {},
   "outputs": [],
   "source": [
    "# redis_client.llen(0)"
   ]
  },
  {
   "cell_type": "code",
   "execution_count": 32,
   "id": "c95f6fa8-e2b8-43b6-a124-d5964cd44e30",
   "metadata": {},
   "outputs": [],
   "source": [
    "redis_client.get(\"control_interval\")"
   ]
  },
  {
   "cell_type": "code",
   "execution_count": 41,
   "id": "39f8bc54-3d87-4850-803d-95f38f1572b7",
   "metadata": {},
   "outputs": [
    {
     "data": {
      "text/plain": [
       "[1, 2, 3, 4, 5]"
      ]
     },
     "execution_count": 41,
     "metadata": {},
     "output_type": "execute_result"
    }
   ],
   "source": [
    "eval(redis_client.get(\"results\"))"
   ]
  },
  {
   "cell_type": "code",
   "execution_count": 33,
   "id": "5702d0af-31dc-4d35-a6c2-a3c9fa9e70b6",
   "metadata": {},
   "outputs": [
    {
     "data": {
      "text/plain": [
       "True"
      ]
     },
     "execution_count": 33,
     "metadata": {},
     "output_type": "execute_result"
    }
   ],
   "source": [
    "redis_client.set(\"base_delay\",5)\n",
    "redis_client.set(\"control_interval\",7)"
   ]
  },
  {
   "cell_type": "code",
   "execution_count": 30,
   "id": "3d6f6fbe-0d6a-4293-a7ad-700f84cf80f0",
   "metadata": {},
   "outputs": [
    {
     "name": "stdout",
     "output_type": "stream",
     "text": [
      ">>>> 2 - 33\n"
     ]
    }
   ],
   "source": [
    "if(redis_client.exists(\"base_delay\")==1):\n",
    "        base_delay_start = redis_client.get(\"base_delay\")\n",
    "        control_interval_start = redis_client.get(\"control_interval\")\n",
    "        print(f\">>>> {base_delay_start} - {control_interval_start}\")\n",
    "        pause_flag = True\n",
    "else:\n",
    "    print(\"eee\")"
   ]
  },
  {
   "cell_type": "code",
   "execution_count": 82,
   "id": "2bc77fba-5e57-48fc-b643-0578295b2d31",
   "metadata": {},
   "outputs": [
    {
     "data": {
      "text/plain": [
       "1"
      ]
     },
     "execution_count": 82,
     "metadata": {},
     "output_type": "execute_result"
    }
   ],
   "source": [
    "redis_client.set(\"base_delay\", 1)\n",
    "redis_client.exists(\"base_delay\")"
   ]
  },
  {
   "cell_type": "code",
   "execution_count": 83,
   "id": "9915a4a0-9c16-43da-87a5-2fcd66deee9b",
   "metadata": {},
   "outputs": [
    {
     "data": {
      "text/plain": [
       "True"
      ]
     },
     "execution_count": 83,
     "metadata": {},
     "output_type": "execute_result"
    }
   ],
   "source": [
    "redis_client.set(\"control_interval\", 1)"
   ]
  },
  {
   "cell_type": "code",
   "execution_count": 2,
   "id": "c74f1fd4-f914-45d5-b348-034ee920b5e4",
   "metadata": {},
   "outputs": [
    {
     "data": {
      "text/plain": [
       "[4, 5, 6, 1, 2, 3]"
      ]
     },
     "execution_count": 2,
     "metadata": {},
     "output_type": "execute_result"
    }
   ],
   "source": [
    "a = [1,2,3]\n",
    "b = [4,5,6]\n",
    "b.extend(a)\n",
    "b"
   ]
  },
  {
   "cell_type": "code",
   "execution_count": 5,
   "id": "efb80533-78c6-4851-8858-e0c58fb8f2df",
   "metadata": {},
   "outputs": [
    {
     "data": {
      "text/plain": [
       "21"
      ]
     },
     "execution_count": 5,
     "metadata": {},
     "output_type": "execute_result"
    }
   ],
   "source": [
    "len(list(range(0,101,5)))"
   ]
  },
  {
   "cell_type": "code",
   "execution_count": 6,
   "id": "68fa2473-b071-4ee5-b6fd-a3f706a2090a",
   "metadata": {},
   "outputs": [
    {
     "ename": "TypeError",
     "evalue": "list expected at most 1 argument, got 3",
     "output_type": "error",
     "traceback": [
      "\u001b[0;31m---------------------------------------------------------------------------\u001b[0m",
      "\u001b[0;31mTypeError\u001b[0m                                 Traceback (most recent call last)",
      "\u001b[0;32m/tmp/ipykernel_2252986/3074182341.py\u001b[0m in \u001b[0;36m<module>\u001b[0;34m\u001b[0m\n\u001b[0;32m----> 1\u001b[0;31m \u001b[0mlist\u001b[0m\u001b[0;34m(\u001b[0m\u001b[0;36m0\u001b[0m\u001b[0;34m,\u001b[0m\u001b[0;36m51\u001b[0m\u001b[0;34m,\u001b[0m\u001b[0;36m5\u001b[0m\u001b[0;34m)\u001b[0m\u001b[0;34m/\u001b[0m\u001b[0;36m100\u001b[0m\u001b[0;34m\u001b[0m\u001b[0;34m\u001b[0m\u001b[0m\n\u001b[0m",
      "\u001b[0;31mTypeError\u001b[0m: list expected at most 1 argument, got 3"
     ]
    }
   ],
   "source": [
    "list(0,51,5)/100"
   ]
  },
  {
   "cell_type": "code",
   "execution_count": 7,
   "id": "5e6a3f52-5112-407d-8b6e-637f76769889",
   "metadata": {},
   "outputs": [
    {
     "ename": "TypeError",
     "evalue": "unsupported operand type(s) for /: 'list' and 'int'",
     "output_type": "error",
     "traceback": [
      "\u001b[0;31m---------------------------------------------------------------------------\u001b[0m",
      "\u001b[0;31mTypeError\u001b[0m                                 Traceback (most recent call last)",
      "\u001b[0;32m/tmp/ipykernel_2252986/3970138296.py\u001b[0m in \u001b[0;36m<module>\u001b[0;34m\u001b[0m\n\u001b[0;32m----> 1\u001b[0;31m \u001b[0mlist\u001b[0m\u001b[0;34m(\u001b[0m\u001b[0mrange\u001b[0m\u001b[0;34m(\u001b[0m\u001b[0;36m0\u001b[0m\u001b[0;34m,\u001b[0m\u001b[0;36m51\u001b[0m\u001b[0;34m,\u001b[0m\u001b[0;36m5\u001b[0m\u001b[0;34m)\u001b[0m\u001b[0;34m)\u001b[0m\u001b[0;34m/\u001b[0m\u001b[0;36m100\u001b[0m\u001b[0;34m\u001b[0m\u001b[0;34m\u001b[0m\u001b[0m\n\u001b[0m",
      "\u001b[0;31mTypeError\u001b[0m: unsupported operand type(s) for /: 'list' and 'int'"
     ]
    }
   ],
   "source": [
    "list(range(0,51,5))/100"
   ]
  },
  {
   "cell_type": "code",
   "execution_count": 8,
   "id": "b31ce8c9-cb9e-4e06-843c-92f333b0e78d",
   "metadata": {},
   "outputs": [
    {
     "data": {
      "text/plain": [
       "[0.0, 0.05, 0.1, 0.15, 0.2, 0.25, 0.3, 0.35, 0.4, 0.45, 0.5]"
      ]
     },
     "execution_count": 8,
     "metadata": {},
     "output_type": "execute_result"
    }
   ],
   "source": [
    "[i/100.0 for i in list(range(0,51,5))]"
   ]
  },
  {
   "cell_type": "code",
   "execution_count": null,
   "id": "e90e3b60-a4a9-490b-ba1a-9d575c076ac8",
   "metadata": {},
   "outputs": [],
   "source": []
  }
 ],
 "metadata": {
  "kernelspec": {
   "display_name": "Python 3 (ipykernel)",
   "language": "python",
   "name": "python3"
  },
  "language_info": {
   "codemirror_mode": {
    "name": "ipython",
    "version": 3
   },
   "file_extension": ".py",
   "mimetype": "text/x-python",
   "name": "python",
   "nbconvert_exporter": "python",
   "pygments_lexer": "ipython3",
   "version": "3.8.10"
  }
 },
 "nbformat": 4,
 "nbformat_minor": 5
}
