{
 "cells": [
  {
   "cell_type": "code",
   "execution_count": 1,
   "id": "d071cbdb-e030-4941-a901-7dc2af0d20c3",
   "metadata": {},
   "outputs": [
    {
     "name": "stdout",
     "output_type": "stream",
     "text": [
      "sleep time = 1.06787109375\n",
      "sleep time = 1.09521484375\n",
      "sleep time = 1.06591796875\n",
      "sleep time = 1.067626953125\n",
      "sleep time = 1.068359375\n",
      "sleep time = 1.064208984375\n",
      "sleep time = 1.064453125\n",
      "sleep time = 1.067626953125\n",
      "sleep time = 1.06591796875\n",
      "sleep time = 1.2529296875\n",
      "sleep time = 1.0654296875\n",
      "sleep time = 1.068359375\n",
      "sleep time = 1.06494140625\n",
      "sleep time = 1.064208984375\n",
      "sleep time = 1.06689453125\n",
      "sleep time = 1.06494140625\n",
      "sleep time = 1.069091796875\n",
      "sleep time = 1.064453125\n",
      "sleep time = 1.063720703125\n",
      "sleep time = 1.064453125\n",
      "运行结束！\n"
     ]
    }
   ],
   "source": [
    "import sys\n",
    "\n",
    "\n",
    "from model.motor import Motor\n",
    "import time\n",
    "import socket\n",
    "import matplotlib.pylab as plt\n",
    "import json\n",
    "import os\n",
    "import argparse\n",
    "from threading import Lock, Thread\n",
    "\n",
    "from configs.configLoader import configLoader\n",
    "\n",
    "\n",
    "class MotorClient:\n",
    "    \"\"\"\n",
    "    MotorClient\n",
    "    \"\"\"\n",
    "    def __init__(self, client_id, target_rpm, mark, control_interval):\n",
    "\n",
    "        self.client_id = client_id\n",
    "        self.target_rpm = target_rpm\n",
    "        self.control_interval = control_interval\n",
    "\n",
    "        self.mark = mark\n",
    "\n",
    "        self.motor = Motor(id=self.client_id, nominal_rpm=self.target_rpm)\n",
    "\n",
    "        self.config_loader = configLoader()\n",
    "\n",
    "        self.running_time = self.config_loader.get_running_time()\n",
    "        self.client_address = self.config_loader.get_client_address()\n",
    "        self.server_address = None\n",
    "\n",
    "        self.client_sock = socket.socket(socket.AF_INET, socket.SOCK_DGRAM)\n",
    "        self.client_sock.setsockopt(socket.SOL_SOCKET, socket.SO_REUSEADDR, 1)\n",
    "        self.client_sock.bind((self.client_address[0], self.client_address[1]))\n",
    "\n",
    "        self.upload_thread = Thread(target=self.upload_service, args=())\n",
    "        # self.control_thread = Thread(target=self.control_service, args=())\n",
    "\n",
    "    def start(self):\n",
    "        self.upload_thread.setDaemon(True)\n",
    "        self.upload_thread.start()\n",
    "        self.upload_thread.join()\n",
    "\n",
    "\n",
    "    def upload_service(self):\n",
    "        self.motor.start()\n",
    "        self.start_time = time.time()\n",
    "        i=0\n",
    "        while (True):\n",
    "            i+=1\n",
    "            time_1 = time.time()*1000\n",
    "            time.sleep(0.001)\n",
    "            print(f\"sleep time = {time.time()*1000 - time_1}\")\n",
    "            if i >= 20:\n",
    "                break\n",
    "        print(\"运行结束！\")\n",
    "\n",
    "if __name__ == \"__main__\":\n",
    "    motorClient = MotorClient(\"001\", 3000, \"test\", 5)\n",
    "    motorClient.start()\n",
    "    # sys.exit()\n"
   ]
  },
  {
   "cell_type": "code",
   "execution_count": 6,
   "id": "656c3663-08ac-46ac-9390-081f9c9db2be",
   "metadata": {},
   "outputs": [
    {
     "name": "stdout",
     "output_type": "stream",
     "text": [
      "sleep time = 7.83642578125\n",
      "sleep time = 5.728271484375\n",
      "sleep time = 5.798095703125\n",
      "sleep time = 8.6611328125\n",
      "sleep time = 5.33642578125\n",
      "sleep time = 5.278076171875\n",
      "sleep time = 5.58740234375\n",
      "sleep time = 7.552490234375\n",
      "sleep time = 5.081298828125\n",
      "sleep time = 5.711181640625\n",
      "sleep time = 6.2763671875\n",
      "sleep time = 6.2255859375\n",
      "sleep time = 5.3125\n",
      "sleep time = 5.865966796875\n",
      "sleep time = 5.8115234375\n",
      "sleep time = 8.00390625\n",
      "sleep time = 6.421142578125\n",
      "sleep time = 7.142578125\n",
      "sleep time = 5.50830078125\n",
      "sleep time = 8.092529296875\n"
     ]
    }
   ],
   "source": [
    "import sys\n",
    "\n",
    "from model.motor import Motor\n",
    "import time\n",
    "from threading import Lock, Thread\n",
    "\n",
    "class MotorClient:\n",
    "    \"\"\"\n",
    "    MotorClient\n",
    "    \"\"\"\n",
    "    def __init__(self, client_id, target_rpm, mark, control_interval):\n",
    "\n",
    "        self.client_id = client_id\n",
    "        self.target_rpm = target_rpm\n",
    "        self.control_interval = control_interval\n",
    "\n",
    "        self.mark = mark\n",
    "\n",
    "        self.motor = Motor(id=self.client_id, nominal_rpm=self.target_rpm)\n",
    "\n",
    "        self.upload_thread = Thread(target=self.upload_service, args=())\n",
    "\n",
    "    def start(self):\n",
    "        self.upload_thread.setDaemon(True)\n",
    "        self.upload_thread.start()\n",
    "\n",
    "\n",
    "    def upload_service(self):\n",
    "        self.motor.start()\n",
    "        i=0\n",
    "        while (True):\n",
    "            i+=1\n",
    "            time_1 = time.time()*1000\n",
    "            time.sleep(0.005)      \n",
    "            print(f\"sleep time = {time.time()*1000 - time_1}\")       \n",
    "            if i >= 20:\n",
    "                break\n",
    "        \n",
    "\n",
    "if __name__ == \"__main__\":\n",
    "    motorClient = MotorClient(\"001\", 3000, \"test\", 5)\n",
    "    motorClient.start()\n",
    "    # sys.exit()"
   ]
  },
  {
   "cell_type": "code",
   "execution_count": null,
   "id": "003ba0da-571f-4d0f-aaf7-4a003d38534f",
   "metadata": {},
   "outputs": [],
   "source": []
  },
  {
   "cell_type": "code",
   "execution_count": null,
   "id": "e202f763-0a07-456e-acf6-48f8295ea721",
   "metadata": {},
   "outputs": [],
   "source": []
  },
  {
   "cell_type": "code",
   "execution_count": null,
   "id": "4c77ef13-f823-44ae-8251-92cbbbc88915",
   "metadata": {},
   "outputs": [],
   "source": []
  },
  {
   "cell_type": "code",
   "execution_count": 15,
   "id": "c5734c5a-6674-40aa-a194-f2e2bd85c0be",
   "metadata": {},
   "outputs": [
    {
     "data": {
      "text/plain": [
       "0"
      ]
     },
     "execution_count": 15,
     "metadata": {},
     "output_type": "execute_result"
    }
   ],
   "source": []
  },
  {
   "cell_type": "code",
   "execution_count": 94,
   "id": "22dfd2bf-f329-4ef9-97e8-0b63f277729d",
   "metadata": {},
   "outputs": [],
   "source": [
    "from utils.gilbert.gilbert_elliott import GilbertElliott\n",
    "\n",
    "def get_loss_distribution(loss_mean = 0.1):\n",
    "\n",
    "    p = 0.5\n",
    "    r = 0.5\n",
    "    k = 0.9\n",
    "    h = 2-k-2*loss_mean\n",
    "    # loss_model = GilbertElliott([p,r,h,k])\n",
    "\n",
    "    COUNT = 10000\n",
    "    results = []\n",
    "    buf = []\n",
    "\n",
    "    for i in range(COUNT):\n",
    "        buf = []\n",
    "        loss_model = GilbertElliott([p,r,h,k])\n",
    "        for j in range(500):\n",
    "            buf.append(int(loss_model.packet_loss()))\n",
    "\n",
    "        loss = sum(buf)/len(buf)*100\n",
    "        results.append(loss)\n",
    "\n",
    "    return results"
   ]
  },
  {
   "cell_type": "code",
   "execution_count": 90,
   "id": "29b798bb-61c4-402f-ae0a-663c91af73ee",
   "metadata": {},
   "outputs": [],
   "source": [
    "s_0_1 =  get_loss_distribution(0.5)"
   ]
  },
  {
   "cell_type": "code",
   "execution_count": null,
   "id": "49a9680b-0da9-4270-8b11-89478fa4923b",
   "metadata": {},
   "outputs": [],
   "source": []
  },
  {
   "cell_type": "code",
   "execution_count": 46,
   "id": "1822661b-de70-4bb7-8a87-b250db3fce3c",
   "metadata": {},
   "outputs": [
    {
     "data": {
      "image/png": "[encoded data removed]",
      "text/plain": [
       "<Figure size 432x288 with 1 Axes>"
      ]
     },
     "metadata": {
      "needs_background": "light"
     },
     "output_type": "display_data"
    }
   ],
   "source": []
  },
  {
   "cell_type": "code",
   "execution_count": 95,
   "id": "d98b0fec-cfb7-410b-af1e-85e6fe2572d4",
   "metadata": {},
   "outputs": [
    {
     "data": {
      "image/png": "[encoded data removed]",
      "text/plain": [
       "<Figure size 864x576 with 1 Axes>"
      ]
     },
     "metadata": {
      "needs_background": "light"
     },
     "output_type": "display_data"
    }
   ],
   "source": [
    "import numpy as np\n",
    "import matplotlib.pyplot as plt\n",
    "\n",
    "\n",
    "fig, axes = plt.subplots(1, 1, figsize=(12,8))\n",
    "\n",
    "#设置坐标标签标注和字体大小\n",
    "plt.xlabel(\"loss(%)\",fontsize=30)\n",
    "plt.ylabel(\"Probability\",fontsize=30)\n",
    "\n",
    "#设置坐标刻度字体大小\n",
    "plt.xticks(fontsize=26)\n",
    "plt.yticks(fontsize=26)\n",
    "\n",
    "loss_mean = 0.5\n",
    "s = get_loss_distribution(loss_mean)\n",
    "\n",
    "\n",
    "weights = np.ones_like(s)/float(len(s))\n",
    "count, bins, ignored = plt.hist(s, bins=100, weights=weights)\n",
    "\n",
    "# plt.plot(bins[:-1], count, linewidth=2, color='r')  \n",
    "plt.savefig(f\"./utils/figs/gilbert_{loss_mean}.png\", bbox_inches = 'tight')\n",
    "plt.show()"
   ]
  },
  {
   "cell_type": "code",
   "execution_count": 58,
   "id": "9b5be28e-621e-46fb-a34c-ef840b28c997",
   "metadata": {},
   "outputs": [
    {
     "name": "stdout",
     "output_type": "stream",
     "text": [
      "[138.98476917  48.69223976  47.52776748  45.62474198 165.05675999\n",
      "  33.6314589   78.97838851 193.47320734 123.52842727]\n"
     ]
    },
    {
     "data": {
      "image/png": "[encoded data removed]",
      "text/plain": [
       "<Figure size 864x576 with 1 Axes>"
      ]
     },
     "metadata": {
      "needs_background": "light"
     },
     "output_type": "display_data"
    }
   ],
   "source": [
    "import numpy as np\n",
    "import matplotlib.pyplot as plt\n",
    "\n",
    "\n",
    "fig, axes = plt.subplots(1, 1, figsize=(12,8))\n",
    "\n",
    "#设置坐标标签标注和字体大小\n",
    "plt.xlabel(\"Delay (ms)\",fontsize=30)\n",
    "plt.ylabel(\"Probability\",fontsize=30)\n",
    "\n",
    "#设置坐标刻度字体大小\n",
    "plt.xticks(fontsize=26)\n",
    "plt.yticks(fontsize=26)\n",
    "\n",
    "\n",
    "delay_mean = 120\n",
    "\n",
    " \n",
    "shape = 5\n",
    "scale = delay_mean/shape\n",
    "s = np.random.gamma(shape,scale,10000)\n",
    "\n",
    "print(s[1:10])\n",
    "weights = np.ones_like(s)/float(len(s))\n",
    "count, bins, ignored = plt.hist(s, 50, weights=weights)\n",
    "plt.plot(bins[:-1], count, linewidth=2, color='r')  \n",
    "plt.savefig(f\"./utils/figs/gamma_{delay_mean}.png\", bbox_inches = 'tight')\n",
    "plt.show()"
   ]
  },
  {
   "cell_type": "code",
   "execution_count": null,
   "id": "eda1d9e1-fb7b-42d1-a162-4627f5abc912",
   "metadata": {},
   "outputs": [],
   "source": []
  },
  {
   "cell_type": "code",
   "execution_count": null,
   "id": "8ee994ae-bdd1-406d-8081-0d7a84060d30",
   "metadata": {},
   "outputs": [],
   "source": []
  },
  {
   "cell_type": "code",
   "execution_count": null,
   "id": "10a13b02-2954-42bd-8e83-076bd4a97736",
   "metadata": {},
   "outputs": [],
   "source": []
  },
  {
   "cell_type": "code",
   "execution_count": null,
   "id": "afcfc74d-5ed1-490c-8e8d-e665735a4643",
   "metadata": {},
   "outputs": [],
   "source": []
  },
  {
   "cell_type": "code",
   "execution_count": null,
   "id": "f9d2a9f7-1488-44a2-8ce8-6f2eb2b23387",
   "metadata": {},
   "outputs": [],
   "source": []
  },
  {
   "cell_type": "code",
   "execution_count": null,
   "id": "790c365a-dffe-4858-8d9e-64372287cd6e",
   "metadata": {},
   "outputs": [],
   "source": []
  },
  {
   "cell_type": "code",
   "execution_count": null,
   "id": "9a04fa51-ab9b-4ce9-a358-ace2a1a42a5f",
   "metadata": {},
   "outputs": [],
   "source": []
  }
 ],
 "metadata": {
  "kernelspec": {
   "display_name": "Python 3 (ipykernel)",
   "language": "python",
   "name": "python3"
  },
  "language_info": {
   "codemirror_mode": {
    "name": "ipython",
    "version": 3
   },
   "file_extension": ".py",
   "mimetype": "text/x-python",
   "name": "python",
   "nbconvert_exporter": "python",
   "pygments_lexer": "ipython3",
   "version": "3.8.10"
  }
 },
 "nbformat": 4,
 "nbformat_minor": 5
}
