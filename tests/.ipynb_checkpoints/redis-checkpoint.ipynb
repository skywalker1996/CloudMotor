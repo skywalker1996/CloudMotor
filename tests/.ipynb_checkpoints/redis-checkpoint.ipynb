{
 "cells": [
  {
   "cell_type": "code",
   "execution_count": 22,
   "id": "8c0d6d54-3d1f-4008-bd97-063a85e07f4c",
   "metadata": {},
   "outputs": [],
   "source": [
    "import redis\n",
    "\n",
    "redis_client = redis.StrictRedis(host='172.30.38.194', port=6379, db=0, decode_responses=True)\n",
    "# redis_client = redis.StrictRedis(host='127.0.0.1', port=6379, db=0, decode_responses=True)"
   ]
  },
  {
   "cell_type": "code",
   "execution_count": 23,
   "id": "1b2c1065-cf74-46a2-a62c-3752da7cb643",
   "metadata": {},
   "outputs": [
    {
     "data": {
      "text/plain": [
       "True"
      ]
     },
     "execution_count": 23,
     "metadata": {},
     "output_type": "execute_result"
    }
   ],
   "source": [
    "redis_client.set(0, 98.7)"
   ]
  },
  {
   "cell_type": "code",
   "execution_count": 24,
   "id": "54b3d724-f95a-4fd8-b629-455886636e85",
   "metadata": {},
   "outputs": [
    {
     "data": {
      "text/plain": [
       "True"
      ]
     },
     "execution_count": 24,
     "metadata": {},
     "output_type": "execute_result"
    }
   ],
   "source": [
    "redis_client.set(\"32131231\", 0)"
   ]
  },
  {
   "cell_type": "code",
   "execution_count": 18,
   "id": "86a3af9c-f406-492a-87b9-bd1b759d09e5",
   "metadata": {},
   "outputs": [
    {
     "data": {
      "text/plain": [
       "'2'"
      ]
     },
     "execution_count": 18,
     "metadata": {},
     "output_type": "execute_result"
    }
   ],
   "source": [
    "redis_client.incr(\"id\")\n",
    "redis_client.get(\"id\")"
   ]
  },
  {
   "cell_type": "code",
   "execution_count": 53,
   "id": "4e372d7a-bba4-49e0-92bd-783400de49e0",
   "metadata": {},
   "outputs": [],
   "source": [
    "# redis_client.rpush(0,0.001,10,95.6)"
   ]
  },
  {
   "cell_type": "code",
   "execution_count": 54,
   "id": "415a6e59-22a0-4e9c-91f7-8e286f1f5fe9",
   "metadata": {},
   "outputs": [],
   "source": [
    "# redis_client.llen(0)"
   ]
  },
  {
   "cell_type": "code",
   "execution_count": 56,
   "id": "be911c84-26dd-4fb5-82b4-2d21d9801494",
   "metadata": {},
   "outputs": [],
   "source": [
    "# redis_client.lindex(0,0)"
   ]
  },
  {
   "cell_type": "code",
   "execution_count": 21,
   "id": "5702d0af-31dc-4d35-a6c2-a3c9fa9e70b6",
   "metadata": {},
   "outputs": [
    {
     "name": "stdout",
     "output_type": "stream",
     "text": [
      "None\n"
     ]
    }
   ],
   "source": [
    "redis_client.set(\"base_delay\",33)\n",
    "redis_client.set(\"control_interval\",33)\n",
    "\n"
   ]
  },
  {
   "cell_type": "code",
   "execution_count": 81,
   "id": "3d6f6fbe-0d6a-4293-a7ad-700f84cf80f0",
   "metadata": {},
   "outputs": [
    {
     "name": "stdout",
     "output_type": "stream",
     "text": [
      "eee\n"
     ]
    }
   ],
   "source": [
    "if(redis_client.exists(\"base_delay\")==1):\n",
    "        base_delay_start = redis_client.get(\"base_delay\")\n",
    "        control_interval_start = redis_client.get(\"control_interval\")\n",
    "        print(f\">>>> {base_delay_start} - {control_interval_start}\")\n",
    "        pause_flag = True\n",
    "else:\n",
    "    print(\"eee\")"
   ]
  },
  {
   "cell_type": "code",
   "execution_count": 82,
   "id": "2bc77fba-5e57-48fc-b643-0578295b2d31",
   "metadata": {},
   "outputs": [
    {
     "data": {
      "text/plain": [
       "1"
      ]
     },
     "execution_count": 82,
     "metadata": {},
     "output_type": "execute_result"
    }
   ],
   "source": [
    "redis_client.set(\"base_delay\", 1)\n",
    "redis_client.exists(\"base_delay\")"
   ]
  },
  {
   "cell_type": "code",
   "execution_count": 83,
   "id": "9915a4a0-9c16-43da-87a5-2fcd66deee9b",
   "metadata": {},
   "outputs": [
    {
     "data": {
      "text/plain": [
       "True"
      ]
     },
     "execution_count": 83,
     "metadata": {},
     "output_type": "execute_result"
    }
   ],
   "source": [
    "redis_client.set(\"control_interval\", 1)"
   ]
  },
  {
   "cell_type": "code",
   "execution_count": null,
   "id": "c74f1fd4-f914-45d5-b348-034ee920b5e4",
   "metadata": {},
   "outputs": [],
   "source": []
  }
 ],
 "metadata": {
  "kernelspec": {
   "display_name": "Python 3 (ipykernel)",
   "language": "python",
   "name": "python3"
  },
  "language_info": {
   "codemirror_mode": {
    "name": "ipython",
    "version": 3
   },
   "file_extension": ".py",
   "mimetype": "text/x-python",
   "name": "python",
   "nbconvert_exporter": "python",
   "pygments_lexer": "ipython3",
   "version": "3.8.10"
  }
 },
 "nbformat": 4,
 "nbformat_minor": 5
}
